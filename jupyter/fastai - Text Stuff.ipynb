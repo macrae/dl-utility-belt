{
 "cells": [
  {
   "cell_type": "code",
   "execution_count": 23,
   "metadata": {},
   "outputs": [],
   "source": [
    "from fastai.text import *\n",
    "from utils import append_files_from_path"
   ]
  },
  {
   "cell_type": "code",
   "execution_count": 24,
   "metadata": {},
   "outputs": [],
   "source": [
    "path = \"../data/seuss/text\"\n",
    "text = append_files_from_path(path)"
   ]
  },
  {
   "cell_type": "code",
   "execution_count": 25,
   "metadata": {},
   "outputs": [
    {
     "data": {
      "text/plain": [
       "'Fox\\nSocks\\nBox\\nKnox\\n\\nKnox in box.\\nFox in socks.\\n\\nKnox on fox in socks in box.\\n\\nSocks on Knox and Knox'"
      ]
     },
     "execution_count": 25,
     "metadata": {},
     "output_type": "execute_result"
    }
   ],
   "source": [
    "text[:100]"
   ]
  },
  {
   "cell_type": "code",
   "execution_count": 39,
   "metadata": {},
   "outputs": [],
   "source": [
    "from fastai.datasets import URLs\n",
    "\n",
    "data_lm = TextLMDataBunch.from_folder(path=path, bs=32)\n",
    "learn = language_model_learner(data_lm, arch=AWD_LSTM, pretrained=URLs.WT103_FWD, drop_mult=0.5)"
   ]
  },
  {
   "cell_type": "code",
   "execution_count": 40,
   "metadata": {},
   "outputs": [
    {
     "data": {
      "text/plain": [
       "'Hello Xxfake Xxbos Xxbos xxbos XXBOS Xxbos XXBOS xxbos XXBOS XXBOS XXBOS XXBOS Xxbos Xxbos Xxbos xxbos xxbos xxbos xxbos xxbos xxbos xxbos xxbos Xxbos XXBOS Xxbos Xxbos xxbos xxbos xxbos xxbos xxbos xxbos Xxbos xxbos Xxbos xxbos xxbos Xxbos xxbos Xxbos xxbos xxbos Xxbos xxbos Xxbos xxbos xxbos xxbos xxbos Xxbos xxbos Xxbos xxbos Xxbos Xxbos xxbos Xxbos xxbos Xxbos xxbos Xxbos xxbos xxbos xxbos Xxbos xxbos Xxbos xxbos xxbos Xxbos xxbos Xxbos xxbos Xxbos xxbos Xxbos xxbos xxbos Xxbos xxbos Xxbos xxbos xxbos Xxbos xxbos Xxbos xxbos Xxbos xxbos Xxbos xxbos xxbos xxbos Xxbos xxbos Xxbos xxbos Xxbos xxbos xxbos Xxbos xxbos Xxbos xxbos Xxbos xxbos xxbos xxbos Xxbos xxbos Xxbos xxbos xxbos Xxbos xxbos xxbos Xxbos xxbos Xxbos xxbos xxbos Xxbos XXBOS Xxbos xxbos xxbos Xxbos xxbos Xxbos xxbos Xxbos xxbos Xxbos xxbos Xxbos xxbos Xxbos xxbos Xxbos xxbos xxbos Xxbos XXBOS XXBOS Xxbos xxbos xxbos xxbos Xxbos xxbos xxbos Xxbos xxbos Xxbos xxbos xxbos xxbos xxbos Xxbos xxbos Xxbos xxbos Xxbos xxbos xxbos xxbos Xxbos xxbos XXBOS Xxbos xxbos xxbos Xxbos xxbos XXBOS Xxbos xxbos xxbos xxbos Xxbos xxbos xxbos xxbos Xxbos xxbos Xxbos xxbos xxbos Xxbos xxbos XXBOS XXBOS Xxbos Xxbos xxbos xxbos xxbos Xxbos xxbos Xxbos xxbos xxbos Xxbos xxbos Xxbos xxbos xxbos xxbos Xxbos xxbos Xxbos xxbos xxbos Xxbos xxbos xxbos Xxbos xxbos Xxbos xxbos Xxbos xxbos xxbos Xxbos xxbos Xxbos xxbos xxbos xxbos Xxbos xxbos Xxbos xxbos xxbos XXBOS Xxbos xxbos Xxbos Xxbos Xxbos xxbos xxbos xxbos Xxbos xxbos xxbos Xxbos xxbos XXBOS XXBOS Xxbos Xxbos xxbos xxbos xxbos xxbos Xxbos xxbos xxbos Xxbos xxbos Xxbos xxbos xxbos xxbos Xxbos xxbos xxbos Xxbos Xxbos xxbos xxbos Xxbos xxbos xxbos Xxbos xxbos Xxbos xxbos xxbos Xxbos xxbos xxbos Xxbos xxbos Xxbos xxbos xxbos xxbos Xxbos xxbos Xxbos xxbos Xxbos XXBOS XXBOS Xxbos xxbos xxbos xxbos Xxbos xxbos Xxbos xxbos Xxbos xxbos xxbos Xxbos xxbos Xxbos xxbos xxbos Xxbos xxbos Xxbos xxbos Xxbos xxbos xxbos Xxbos xxbos Xxbos'"
      ]
     },
     "execution_count": 40,
     "metadata": {},
     "output_type": "execute_result"
    }
   ],
   "source": [
    "learn.predict(\"Hello\", n_words=500)"
   ]
  },
  {
   "cell_type": "code",
   "execution_count": null,
   "metadata": {},
   "outputs": [],
   "source": []
  }
 ],
 "metadata": {
  "kernelspec": {
   "display_name": "fastai (env)",
   "language": "python",
   "name": "fastai"
  },
  "language_info": {
   "codemirror_mode": {
    "name": "ipython",
    "version": 3
   },
   "file_extension": ".py",
   "mimetype": "text/x-python",
   "name": "python",
   "nbconvert_exporter": "python",
   "pygments_lexer": "ipython3",
   "version": "3.6.5"
  }
 },
 "nbformat": 4,
 "nbformat_minor": 2
}
